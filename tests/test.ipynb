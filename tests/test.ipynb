{
 "cells": [
  {
   "cell_type": "code",
   "execution_count": 1,
   "id": "a1852afe-b56f-4e79-8d10-bde3c1042f97",
   "metadata": {},
   "outputs": [],
   "source": [
    "from llvmlite.binding import parse_assembly"
   ]
  },
  {
   "cell_type": "code",
   "execution_count": 2,
   "id": "a604b4e4-9f12-404e-8e98-c4051ed5aafb",
   "metadata": {},
   "outputs": [],
   "source": [
    "with open(\"./core.ll\", \"r\") as f:\n",
    "    raw = f.read()\n",
    "    kk = parse_assembly(raw)"
   ]
  },
  {
   "cell_type": "code",
   "execution_count": 3,
   "id": "d9473558-5bfe-4bed-954b-7f6ca5c11131",
   "metadata": {},
   "outputs": [
    {
     "data": {
      "text/plain": [
       "<llvmlite.binding.module.ModuleRef at 0x1060cfca0>"
      ]
     },
     "execution_count": 3,
     "metadata": {},
     "output_type": "execute_result"
    }
   ],
   "source": [
    "kk"
   ]
  },
  {
   "cell_type": "code",
   "execution_count": 4,
   "id": "70965851-b661-4ece-bc8a-0091462ab1a7",
   "metadata": {},
   "outputs": [
    {
     "data": {
      "text/plain": [
       "['__bool__',\n",
       " '__class__',\n",
       " '__del__',\n",
       " '__delattr__',\n",
       " '__dict__',\n",
       " '__dir__',\n",
       " '__doc__',\n",
       " '__enter__',\n",
       " '__eq__',\n",
       " '__exit__',\n",
       " '__format__',\n",
       " '__ge__',\n",
       " '__getattribute__',\n",
       " '__gt__',\n",
       " '__hash__',\n",
       " '__init__',\n",
       " '__init_subclass__',\n",
       " '__le__',\n",
       " '__lt__',\n",
       " '__module__',\n",
       " '__ne__',\n",
       " '__new__',\n",
       " '__nonzero__',\n",
       " '__reduce__',\n",
       " '__reduce_ex__',\n",
       " '__repr__',\n",
       " '__setattr__',\n",
       " '__sizeof__',\n",
       " '__str__',\n",
       " '__subclasshook__',\n",
       " '__weakref__',\n",
       " '_as_parameter_',\n",
       " '_capi',\n",
       " '_closed',\n",
       " '_context',\n",
       " '_dispose',\n",
       " '_owned',\n",
       " '_ptr',\n",
       " 'as_bitcode',\n",
       " 'clone',\n",
       " 'close',\n",
       " 'closed',\n",
       " 'data_layout',\n",
       " 'detach',\n",
       " 'functions',\n",
       " 'get_function',\n",
       " 'get_global_variable',\n",
       " 'get_struct_type',\n",
       " 'global_variables',\n",
       " 'link_in',\n",
       " 'name',\n",
       " 'source_file',\n",
       " 'struct_types',\n",
       " 'triple',\n",
       " 'verify']"
      ]
     },
     "execution_count": 4,
     "metadata": {},
     "output_type": "execute_result"
    }
   ],
   "source": [
    "dir(kk)"
   ]
  },
  {
   "cell_type": "code",
   "execution_count": 5,
   "id": "0bee5d3a-787c-4e28-a829-a180292cb6b3",
   "metadata": {},
   "outputs": [],
   "source": [
    "fun0 = list(kk.functions)[0]"
   ]
  },
  {
   "cell_type": "code",
   "execution_count": 6,
   "id": "3754fad8-9f02-4089-a093-dc89f54815d9",
   "metadata": {},
   "outputs": [
    {
     "data": {
      "text/plain": [
       "llvmlite.binding.value.ValueRef"
      ]
     },
     "execution_count": 6,
     "metadata": {},
     "output_type": "execute_result"
    }
   ],
   "source": [
    "fun0.__class__"
   ]
  },
  {
   "cell_type": "code",
   "execution_count": 7,
   "id": "ca563197-583b-48bc-b137-c638ca1b49f2",
   "metadata": {},
   "outputs": [
    {
     "data": {
      "text/plain": [
       "True"
      ]
     },
     "execution_count": 7,
     "metadata": {},
     "output_type": "execute_result"
    }
   ],
   "source": [
    "fun0.is_function"
   ]
  },
  {
   "cell_type": "code",
   "execution_count": 8,
   "id": "7b4296a9-7c72-4616-9ef0-87a7cfe0fb16",
   "metadata": {},
   "outputs": [
    {
     "data": {
      "text/plain": [
       "['__bool__',\n",
       " '__class__',\n",
       " '__del__',\n",
       " '__delattr__',\n",
       " '__dict__',\n",
       " '__dir__',\n",
       " '__doc__',\n",
       " '__enter__',\n",
       " '__eq__',\n",
       " '__exit__',\n",
       " '__format__',\n",
       " '__ge__',\n",
       " '__getattribute__',\n",
       " '__gt__',\n",
       " '__hash__',\n",
       " '__init__',\n",
       " '__init_subclass__',\n",
       " '__le__',\n",
       " '__lt__',\n",
       " '__module__',\n",
       " '__ne__',\n",
       " '__new__',\n",
       " '__nonzero__',\n",
       " '__reduce__',\n",
       " '__reduce_ex__',\n",
       " '__repr__',\n",
       " '__setattr__',\n",
       " '__sizeof__',\n",
       " '__str__',\n",
       " '__subclasshook__',\n",
       " '__weakref__',\n",
       " '_as_parameter_',\n",
       " '_capi',\n",
       " '_closed',\n",
       " '_dispose',\n",
       " '_kind',\n",
       " '_owned',\n",
       " '_parents',\n",
       " '_ptr',\n",
       " 'add_function_attribute',\n",
       " 'arguments',\n",
       " 'attributes',\n",
       " 'block',\n",
       " 'blocks',\n",
       " 'close',\n",
       " 'closed',\n",
       " 'detach',\n",
       " 'function',\n",
       " 'instruction',\n",
       " 'instructions',\n",
       " 'is_argument',\n",
       " 'is_block',\n",
       " 'is_declaration',\n",
       " 'is_function',\n",
       " 'is_global',\n",
       " 'is_instruction',\n",
       " 'is_operand',\n",
       " 'linkage',\n",
       " 'module',\n",
       " 'name',\n",
       " 'opcode',\n",
       " 'operands',\n",
       " 'storage_class',\n",
       " 'type',\n",
       " 'visibility']"
      ]
     },
     "execution_count": 8,
     "metadata": {},
     "output_type": "execute_result"
    }
   ],
   "source": [
    "dir(fun0)"
   ]
  },
  {
   "cell_type": "code",
   "execution_count": 9,
   "id": "7c558c19-f96e-4355-b2f2-1539844940ff",
   "metadata": {},
   "outputs": [
    {
     "data": {
      "text/plain": [
       "[<llvmlite.binding.value.ValueRef at 0x1061db640>,\n",
       " <llvmlite.binding.value.ValueRef at 0x1061db2e0>,\n",
       " <llvmlite.binding.value.ValueRef at 0x1061dbaf0>]"
      ]
     },
     "execution_count": 9,
     "metadata": {},
     "output_type": "execute_result"
    }
   ],
   "source": [
    "list(fun0.blocks)"
   ]
  },
  {
   "cell_type": "code",
   "execution_count": 10,
   "id": "5c4196ce-9b4e-4767-a2fc-c88914b22446",
   "metadata": {},
   "outputs": [
    {
     "data": {
      "text/plain": [
       "[<llvmlite.binding.value.ValueRef at 0x1061db7f0>,\n",
       " <llvmlite.binding.value.ValueRef at 0x1061db580>]"
      ]
     },
     "execution_count": 10,
     "metadata": {},
     "output_type": "execute_result"
    }
   ],
   "source": [
    "list(fun0.arguments)"
   ]
  },
  {
   "cell_type": "code",
   "execution_count": 11,
   "id": "8be458ce-4deb-4b5b-bd4e-4ade3acf1bda",
   "metadata": {},
   "outputs": [],
   "source": [
    "blk0 = list(fun0.blocks)[1]"
   ]
  },
  {
   "cell_type": "code",
   "execution_count": 12,
   "id": "555b1a92-5c4a-4677-9553-72e807882a0c",
   "metadata": {},
   "outputs": [
    {
     "data": {
      "text/plain": [
       "llvmlite.binding.value.ValueRef"
      ]
     },
     "execution_count": 12,
     "metadata": {},
     "output_type": "execute_result"
    }
   ],
   "source": [
    "blk0.__class__"
   ]
  },
  {
   "cell_type": "code",
   "execution_count": 13,
   "id": "8929571a-88ac-4552-b9e7-7ce796abc612",
   "metadata": {},
   "outputs": [
    {
     "data": {
      "text/plain": [
       "True"
      ]
     },
     "execution_count": 13,
     "metadata": {},
     "output_type": "execute_result"
    }
   ],
   "source": [
    "blk0.is_block"
   ]
  },
  {
   "cell_type": "code",
   "execution_count": 14,
   "id": "682fc0d2-578f-41ca-a7ea-c1bc72fc1742",
   "metadata": {},
   "outputs": [
    {
     "data": {
      "text/plain": [
       "['__bool__',\n",
       " '__class__',\n",
       " '__del__',\n",
       " '__delattr__',\n",
       " '__dict__',\n",
       " '__dir__',\n",
       " '__doc__',\n",
       " '__enter__',\n",
       " '__eq__',\n",
       " '__exit__',\n",
       " '__format__',\n",
       " '__ge__',\n",
       " '__getattribute__',\n",
       " '__gt__',\n",
       " '__hash__',\n",
       " '__init__',\n",
       " '__init_subclass__',\n",
       " '__le__',\n",
       " '__lt__',\n",
       " '__module__',\n",
       " '__ne__',\n",
       " '__new__',\n",
       " '__nonzero__',\n",
       " '__reduce__',\n",
       " '__reduce_ex__',\n",
       " '__repr__',\n",
       " '__setattr__',\n",
       " '__sizeof__',\n",
       " '__str__',\n",
       " '__subclasshook__',\n",
       " '__weakref__',\n",
       " '_as_parameter_',\n",
       " '_capi',\n",
       " '_closed',\n",
       " '_dispose',\n",
       " '_kind',\n",
       " '_owned',\n",
       " '_parents',\n",
       " '_ptr',\n",
       " 'add_function_attribute',\n",
       " 'arguments',\n",
       " 'attributes',\n",
       " 'block',\n",
       " 'blocks',\n",
       " 'close',\n",
       " 'closed',\n",
       " 'detach',\n",
       " 'function',\n",
       " 'instruction',\n",
       " 'instructions',\n",
       " 'is_argument',\n",
       " 'is_block',\n",
       " 'is_declaration',\n",
       " 'is_function',\n",
       " 'is_global',\n",
       " 'is_instruction',\n",
       " 'is_operand',\n",
       " 'linkage',\n",
       " 'module',\n",
       " 'name',\n",
       " 'opcode',\n",
       " 'operands',\n",
       " 'storage_class',\n",
       " 'type',\n",
       " 'visibility']"
      ]
     },
     "execution_count": 14,
     "metadata": {},
     "output_type": "execute_result"
    }
   ],
   "source": [
    "dir(blk0)"
   ]
  },
  {
   "cell_type": "code",
   "execution_count": 15,
   "id": "cfa38e53-fa61-436c-82be-989ee142093e",
   "metadata": {},
   "outputs": [],
   "source": [
    "inst0 = list(blk0.instructions)[1]"
   ]
  },
  {
   "cell_type": "code",
   "execution_count": 16,
   "id": "3bd1e341-dc0e-4b4e-9acb-76fa7ea67b1d",
   "metadata": {},
   "outputs": [
    {
     "data": {
      "text/plain": [
       "'  %hash.bhp256 = call i128 @aleo.hash.bhp256.i128(i128 %load)'"
      ]
     },
     "execution_count": 16,
     "metadata": {},
     "output_type": "execute_result"
    }
   ],
   "source": [
    "str(inst0)"
   ]
  },
  {
   "cell_type": "code",
   "execution_count": 17,
   "id": "c90d2a02-ef7d-4d72-a413-7e33809fda53",
   "metadata": {},
   "outputs": [
    {
     "data": {
      "text/plain": [
       "llvmlite.binding.value.ValueRef"
      ]
     },
     "execution_count": 17,
     "metadata": {},
     "output_type": "execute_result"
    }
   ],
   "source": [
    "inst0.__class__"
   ]
  },
  {
   "cell_type": "code",
   "execution_count": 18,
   "id": "8d8c5fca-f084-42f5-bdf2-b62aa464bc00",
   "metadata": {},
   "outputs": [
    {
     "data": {
      "text/plain": [
       "True"
      ]
     },
     "execution_count": 18,
     "metadata": {},
     "output_type": "execute_result"
    }
   ],
   "source": [
    "inst0.is_instruction"
   ]
  },
  {
   "cell_type": "code",
   "execution_count": 19,
   "id": "22394e72-a751-4542-94cf-5860e6c13a41",
   "metadata": {},
   "outputs": [
    {
     "data": {
      "text/plain": [
       "['__bool__',\n",
       " '__class__',\n",
       " '__del__',\n",
       " '__delattr__',\n",
       " '__dict__',\n",
       " '__dir__',\n",
       " '__doc__',\n",
       " '__enter__',\n",
       " '__eq__',\n",
       " '__exit__',\n",
       " '__format__',\n",
       " '__ge__',\n",
       " '__getattribute__',\n",
       " '__gt__',\n",
       " '__hash__',\n",
       " '__init__',\n",
       " '__init_subclass__',\n",
       " '__le__',\n",
       " '__lt__',\n",
       " '__module__',\n",
       " '__ne__',\n",
       " '__new__',\n",
       " '__nonzero__',\n",
       " '__reduce__',\n",
       " '__reduce_ex__',\n",
       " '__repr__',\n",
       " '__setattr__',\n",
       " '__sizeof__',\n",
       " '__str__',\n",
       " '__subclasshook__',\n",
       " '__weakref__',\n",
       " '_as_parameter_',\n",
       " '_capi',\n",
       " '_closed',\n",
       " '_dispose',\n",
       " '_kind',\n",
       " '_owned',\n",
       " '_parents',\n",
       " '_ptr',\n",
       " 'add_function_attribute',\n",
       " 'arguments',\n",
       " 'attributes',\n",
       " 'block',\n",
       " 'blocks',\n",
       " 'close',\n",
       " 'closed',\n",
       " 'detach',\n",
       " 'function',\n",
       " 'instruction',\n",
       " 'instructions',\n",
       " 'is_argument',\n",
       " 'is_block',\n",
       " 'is_declaration',\n",
       " 'is_function',\n",
       " 'is_global',\n",
       " 'is_instruction',\n",
       " 'is_operand',\n",
       " 'linkage',\n",
       " 'module',\n",
       " 'name',\n",
       " 'opcode',\n",
       " 'operands',\n",
       " 'storage_class',\n",
       " 'type',\n",
       " 'visibility']"
      ]
     },
     "execution_count": 19,
     "metadata": {},
     "output_type": "execute_result"
    }
   ],
   "source": [
    "dir(inst0)"
   ]
  },
  {
   "cell_type": "code",
   "execution_count": 20,
   "id": "95538aeb-fb95-4c82-b87e-1022041d5556",
   "metadata": {},
   "outputs": [
    {
     "data": {
      "text/plain": [
       "'  %hash.bhp256 = call i128 @aleo.hash.bhp256.i128(i128 %load)'"
      ]
     },
     "execution_count": 20,
     "metadata": {},
     "output_type": "execute_result"
    }
   ],
   "source": [
    "str(inst0)"
   ]
  },
  {
   "cell_type": "code",
   "execution_count": 21,
   "id": "df210f57-e31c-4a70-9fbb-747aa68e5d9a",
   "metadata": {},
   "outputs": [
    {
     "data": {
      "text/plain": [
       "'call'"
      ]
     },
     "execution_count": 21,
     "metadata": {},
     "output_type": "execute_result"
    }
   ],
   "source": [
    "inst0.opcode"
   ]
  },
  {
   "cell_type": "code",
   "execution_count": 22,
   "id": "e5559e64-93e6-445e-980c-3776d19c16c5",
   "metadata": {},
   "outputs": [
    {
     "data": {
      "text/plain": [
       "'hash.bhp256'"
      ]
     },
     "execution_count": 22,
     "metadata": {},
     "output_type": "execute_result"
    }
   ],
   "source": [
    "inst0.name"
   ]
  },
  {
   "cell_type": "code",
   "execution_count": 23,
   "id": "bb2eaa85-a923-4d39-827b-377c72bf7427",
   "metadata": {},
   "outputs": [
    {
     "data": {
      "text/plain": [
       "[<llvmlite.binding.value.ValueRef at 0x1061db6d0>,\n",
       " <llvmlite.binding.value.ValueRef at 0x1061db2b0>]"
      ]
     },
     "execution_count": 23,
     "metadata": {},
     "output_type": "execute_result"
    }
   ],
   "source": [
    "list(inst0.operands)"
   ]
  },
  {
   "cell_type": "code",
   "execution_count": 24,
   "id": "f7868f21-ba19-4769-940e-85d7011f4cac",
   "metadata": {},
   "outputs": [
    {
     "data": {
      "text/plain": [
       "'load'"
      ]
     },
     "execution_count": 24,
     "metadata": {},
     "output_type": "execute_result"
    }
   ],
   "source": [
    "list(inst0.operands)[0].name"
   ]
  },
  {
   "cell_type": "code",
   "execution_count": 25,
   "id": "41b2af52-2520-4bbb-8289-e0dc8c8d5570",
   "metadata": {},
   "outputs": [
    {
     "data": {
      "text/plain": [
       "'aleo.hash.bhp256.i128'"
      ]
     },
     "execution_count": 25,
     "metadata": {},
     "output_type": "execute_result"
    }
   ],
   "source": [
    "list(inst0.operands)[1].name"
   ]
  },
  {
   "cell_type": "code",
   "execution_count": null,
   "id": "eee335f2-605c-431a-a468-1f30be664eaa",
   "metadata": {},
   "outputs": [],
   "source": []
  },
  {
   "cell_type": "code",
   "execution_count": 195,
   "id": "4a48a8d7-a45c-4fe7-bb0e-f6c33c0b4d6b",
   "metadata": {},
   "outputs": [
    {
     "data": {
      "text/plain": [
       "'i1 false'"
      ]
     },
     "execution_count": 195,
     "metadata": {},
     "output_type": "execute_result"
    }
   ],
   "source": [
    "str(list(inst0.operands)[2])"
   ]
  },
  {
   "cell_type": "code",
   "execution_count": 156,
   "id": "97d58666-60fc-4479-992b-ce3bb932cdfa",
   "metadata": {},
   "outputs": [
    {
     "data": {
      "text/plain": [
       "<llvmlite.binding.value.ValueRef at 0x1139bb2b0>"
      ]
     },
     "execution_count": 156,
     "metadata": {},
     "output_type": "execute_result"
    }
   ],
   "source": [
    "list(inst0.operands)[2]"
   ]
  },
  {
   "cell_type": "code",
   "execution_count": 181,
   "id": "53c4833a-97ca-4900-9e46-9b34444419d3",
   "metadata": {},
   "outputs": [
    {
     "data": {
      "text/plain": [
       "['__bool__',\n",
       " '__class__',\n",
       " '__del__',\n",
       " '__delattr__',\n",
       " '__dict__',\n",
       " '__dir__',\n",
       " '__doc__',\n",
       " '__enter__',\n",
       " '__eq__',\n",
       " '__exit__',\n",
       " '__format__',\n",
       " '__ge__',\n",
       " '__getattribute__',\n",
       " '__gt__',\n",
       " '__hash__',\n",
       " '__init__',\n",
       " '__init_subclass__',\n",
       " '__le__',\n",
       " '__lt__',\n",
       " '__module__',\n",
       " '__ne__',\n",
       " '__new__',\n",
       " '__nonzero__',\n",
       " '__reduce__',\n",
       " '__reduce_ex__',\n",
       " '__repr__',\n",
       " '__setattr__',\n",
       " '__sizeof__',\n",
       " '__str__',\n",
       " '__subclasshook__',\n",
       " '__weakref__',\n",
       " '_as_parameter_',\n",
       " '_capi',\n",
       " '_closed',\n",
       " '_dispose',\n",
       " '_kind',\n",
       " '_owned',\n",
       " '_parents',\n",
       " '_ptr',\n",
       " 'add_function_attribute',\n",
       " 'arguments',\n",
       " 'attributes',\n",
       " 'block',\n",
       " 'blocks',\n",
       " 'close',\n",
       " 'closed',\n",
       " 'detach',\n",
       " 'function',\n",
       " 'instruction',\n",
       " 'instructions',\n",
       " 'is_argument',\n",
       " 'is_block',\n",
       " 'is_declaration',\n",
       " 'is_function',\n",
       " 'is_global',\n",
       " 'is_instruction',\n",
       " 'is_operand',\n",
       " 'linkage',\n",
       " 'module',\n",
       " 'name',\n",
       " 'opcode',\n",
       " 'operands',\n",
       " 'storage_class',\n",
       " 'type',\n",
       " 'visibility']"
      ]
     },
     "execution_count": 181,
     "metadata": {},
     "output_type": "execute_result"
    }
   ],
   "source": [
    "dir(list(inst0.operands)[2])"
   ]
  },
  {
   "cell_type": "code",
   "execution_count": 199,
   "id": "4ed9f4a0-b003-4c27-b64d-ce71dbfbf561",
   "metadata": {},
   "outputs": [
    {
     "data": {
      "text/plain": [
       "<llvmlite.binding.value.TypeRef at 0x1139c0d00>"
      ]
     },
     "execution_count": 199,
     "metadata": {},
     "output_type": "execute_result"
    }
   ],
   "source": [
    "list(inst0.operands)[2]."
   ]
  },
  {
   "cell_type": "code",
   "execution_count": null,
   "id": "e3bb09fc-f462-4fab-a7f6-84be197bd625",
   "metadata": {},
   "outputs": [],
   "source": []
  }
 ],
 "metadata": {
  "kernelspec": {
   "display_name": "Python 3 (ipykernel)",
   "language": "python",
   "name": "python3"
  },
  "language_info": {
   "codemirror_mode": {
    "name": "ipython",
    "version": 3
   },
   "file_extension": ".py",
   "mimetype": "text/x-python",
   "name": "python",
   "nbconvert_exporter": "python",
   "pygments_lexer": "ipython3",
   "version": "3.10.9"
  }
 },
 "nbformat": 4,
 "nbformat_minor": 5
}
